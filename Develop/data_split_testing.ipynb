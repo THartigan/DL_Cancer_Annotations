{
 "cells": [
  {
   "cell_type": "code",
   "execution_count": 2,
   "metadata": {},
   "outputs": [
    {
     "name": "stdout",
     "output_type": "stream",
     "text": [
      "Using device: cuda\n",
      "Loading data with 2 training folds and 2 testing folds\n",
      "On csvm5\n",
      "Loaded 90 samples\n",
      "Using the specified training fold 0 and validation fold 0\n",
      "Reducing to 100% of loaded data\n",
      "Keeping 598834 for training\n",
      "Keeping 300960 for validation\n",
      "Keeping 292760 for testing\n",
      "0\n",
      "(598834, 801)\n"
     ]
    }
   ],
   "source": [
    "import sys\n",
    "import os\n",
    "parent_dir = os.path.abspath(os.path.join(os.getcwd(), '..'))\n",
    "sys.path.insert(0, parent_dir)\n",
    "import torch\n",
    "import numpy as np\n",
    "from Processing.Sample import Sample\n",
    "import numpy as np\n",
    "from torch.utils.data import DataLoader, TensorDataset \n",
    "import torch.nn as nn\n",
    "import torch.optim as optimise\n",
    "from torch.optim.lr_scheduler import StepLR\n",
    "from Models.Core_CNN import Core_CNN\n",
    "from Models.Core_CNN_TPL import Core_CNN_TPL\n",
    "from Processing.Trainer import Trainer\n",
    "import matplotlib.pyplot as plt\n",
    "\n",
    "trainer = Trainer()\n",
    "\n",
    "train_loader, val_loader, test_loader, train_size, val_size, test_size = trainer.load_data(1, 1000000, 2, 2, training_fold_number=0, val_fold_number=0)\n",
    "train_xs = np.empty((0, 801))\n",
    "train_ys = np.empty((0))\n",
    "test_xs = np.empty((0, 801))\n",
    "test_ys = np.empty((0))\n",
    "i = 0\n",
    "for xs, ys in train_loader:\n",
    "    train_xs = np.concat([train_xs, xs])\n",
    "    train_ys = np.concat([train_ys, ys])\n",
    "    print(i)\n",
    "    i += 1\n",
    "    print(train_xs.shape)\n",
    "    # print(ys)\n",
    "for xs, ys in test_loader:\n",
    "    test_xs = np.concat([test_xs, xs])\n",
    "    test_ys = np.concat([test_ys, ys])\n",
    "\n"
   ]
  },
  {
   "cell_type": "code",
   "execution_count": 3,
   "metadata": {},
   "outputs": [
    {
     "data": {
      "image/png": "[encoded data removed]",
      "text/plain": [
       "<Figure size 640x480 with 1 Axes>"
      ]
     },
     "metadata": {},
     "output_type": "display_data"
    },
    {
     "name": "stdout",
     "output_type": "stream",
     "text": [
      "(598834,)\n",
      "(292760,)\n"
     ]
    }
   ],
   "source": [
    "plt.hist(test_ys, bins = [0,1,2,3,4])\n",
    "plt.show()\n",
    "print(np.shape(train_ys))\n",
    "print(np.shape(test_ys))"
   ]
  },
  {
   "cell_type": "code",
   "execution_count": 4,
   "metadata": {},
   "outputs": [
    {
     "name": "stdout",
     "output_type": "stream",
     "text": [
      "[range(0, 2445), range(2446, 3348), range(3349, 4466)]\n",
      "(4466, 801)\n",
      "(801,)\n",
      "[3 3 3 ... 3 3 3]\n"
     ]
    }
   ],
   "source": [
    "save_directory = \"/local/scratch/Data/TROPHY/numpy/\"\n",
    "from Processing.Sample import Sample\n",
    "import matplotlib.pyplot as plt\n",
    "import numpy as np\n",
    "samples = np.load(save_directory + \"samples.npy\", allow_pickle = True)\n",
    "# coords = np.load(save_directory + \"coords.npy\")\n",
    "data = np.load(save_directory + \"data.npy\")\n",
    "classification = np.load(save_directory + \"classification.npy\")\n",
    "print(samples[0].layer_range)\n",
    "\n",
    "s0_tests = samples[0].calculate_tests(data)\n",
    "print(np.shape(s0_tests[0]))\n",
    "s0_answers = samples[0].calculate_answers(classification)\n",
    "print(s0_answers)"
   ]
  },
  {
   "cell_type": "code",
   "execution_count": 5,
   "metadata": {},
   "outputs": [
    {
     "name": "stdout",
     "output_type": "stream",
     "text": [
      "(1192554, 801)\n",
      "0.00022550667177151455\n",
      "0.000370085573116741\n",
      "0.0003551204065101648\n",
      "0.00014064964293231423\n",
      "3\n"
     ]
    }
   ],
   "source": [
    "print(np.shape(data.T))\n",
    "from sklearn.model_selection import StratifiedGroupKFold\n",
    "\n",
    "groups = []\n",
    "for i, sample in enumerate(samples):\n",
    "    sample_size = sample.end_index - sample.start_index + 1\n",
    "    indices = np.ones(sample_size) * i\n",
    "    groups = np.concatenate([groups, indices])\n",
    "\n",
    "skf = StratifiedGroupKFold(n_splits = 4)\n",
    "training_indices = []\n",
    "test_indices = []\n",
    "match_scores = []\n",
    "for split_train_indices, split_test_indices in skf.split(np.transpose(data), classification, groups):\n",
    "    training_indices.append(split_train_indices)\n",
    "    test_indices.append(split_test_indices)\n",
    "    training_ys = classification[split_train_indices]\n",
    "    testing_ys = classification[split_test_indices]\n",
    "\n",
    "    training_hist = np.histogram(training_ys, bins = [1,2,3,4,5])[0]\n",
    "    total_num_training = np.sum(training_hist)\n",
    "    testing_hist = np.histogram(testing_ys, bins = [1,2,3,4,5])[0]\n",
    "    total_num_testing = np.sum(testing_hist)\n",
    "\n",
    "    prop_by_class_train = training_hist / total_num_training\n",
    "    prop_by_class_test = testing_hist / total_num_testing\n",
    "\n",
    "    match_score = np.sum(np.abs(prop_by_class_train - prop_by_class_test)**2)\n",
    "\n",
    "    print(match_score)\n",
    "    match_scores.append(match_score)\n",
    "\n",
    "best_fold = np.argmin(match_scores)\n",
    "print(best_fold)\n",
    "training_indices = training_indices[best_fold]\n",
    "test_indices = test_indices[best_fold]\n",
    "\n",
    "\n",
    "\n",
    "\n"
   ]
  },
  {
   "cell_type": "code",
   "execution_count": null,
   "metadata": {},
   "outputs": [
    {
     "name": "stdout",
     "output_type": "stream",
     "text": [
      "1\n"
     ]
    },
    {
     "data": {
      "image/png": "[encoded data removed]",
      "text/plain": [
       "<Figure size 640x480 with 1 Axes>"
      ]
     },
     "metadata": {},
     "output_type": "display_data"
    },
    {
     "name": "stdout",
     "output_type": "stream",
     "text": [
      "0: 0, 4467\n",
      "1: 16881, 0\n",
      "2: 12377, 0\n",
      "3: 17003, 0\n",
      "4: 5309, 0\n",
      "5: 7477, 0\n",
      "6: 9340, 0\n",
      "7: 10535, 0\n",
      "8: 11710, 0\n",
      "9: 10926, 0\n",
      "10: 16553, 0\n",
      "11: 0, 7588\n",
      "12: 3471, 0\n",
      "13: 31841, 0\n",
      "14: 0, 38397\n",
      "15: 18305, 0\n",
      "16: 34392, 0\n",
      "17: 20498, 0\n",
      "18: 0, 12643\n",
      "19: 5833, 0\n",
      "20: 9038, 0\n",
      "21: 0, 10848\n",
      "22: 11807, 0\n",
      "23: 0, 5162\n",
      "24: 11660, 0\n",
      "25: 14703, 0\n",
      "26: 19567, 0\n",
      "27: 0, 14175\n",
      "28: 39061, 0\n",
      "29: 0, 3102\n",
      "30: 41999, 0\n",
      "31: 0, 2997\n",
      "32: 7697, 0\n",
      "33: 10487, 0\n",
      "34: 0, 12879\n",
      "35: 5887, 0\n",
      "36: 6799, 0\n",
      "37: 7747, 0\n",
      "38: 9621, 0\n",
      "39: 9539, 0\n",
      "40: 0, 7738\n",
      "41: 5416, 0\n",
      "42: 0, 35851\n",
      "43: 10762, 0\n",
      "44: 3325, 0\n",
      "45: 8745, 0\n",
      "46: 10016, 0\n",
      "47: 15025, 0\n",
      "48: 7645, 0\n",
      "49: 10174, 0\n",
      "50: 5112, 0\n",
      "51: 5706, 0\n",
      "52: 6258, 0\n",
      "53: 25875, 0\n",
      "54: 5153, 0\n",
      "55: 0, 4735\n",
      "56: 20703, 0\n",
      "57: 0, 18390\n",
      "58: 13298, 0\n",
      "59: 5917, 0\n",
      "60: 5524, 0\n",
      "61: 17709, 0\n",
      "62: 48066, 0\n",
      "63: 6337, 0\n",
      "64: 6414, 0\n",
      "65: 0, 10048\n",
      "66: 33549, 0\n",
      "67: 0, 13552\n",
      "68: 0, 13543\n",
      "69: 1167, 0\n",
      "70: 5351, 0\n",
      "71: 0, 8687\n",
      "72: 0, 5683\n",
      "73: 7081, 0\n",
      "74: 2857, 0\n",
      "75: 0, 23683\n",
      "76: 19477, 0\n",
      "77: 0, 39036\n",
      "78: 9943, 0\n",
      "79: 28337, 0\n",
      "80: 0, 5166\n",
      "81: 4831, 0\n",
      "82: 18012, 0\n",
      "83: 18682, 0\n",
      "84: 9585, 0\n",
      "85: 7762, 0\n",
      "86: 10198, 0\n",
      "87: 11638, 0\n",
      "88: 20812, 0\n",
      "89: 3659, 0\n",
      "[1, 2, 3, 4, 5, 6, 7, 8, 9, 10, 12, 13, 15, 16, 17, 19, 20, 22, 24, 25, 26, 28, 30, 32, 33, 35, 36, 37, 38, 39, 41, 43, 44, 45, 46, 47, 48, 49, 50, 51, 52, 53, 54, 56, 58, 59, 60, 61, 62, 63, 64, 66, 69, 70, 73, 74, 76, 78, 79, 81, 82, 83, 84, 85, 86, 87, 88, 89]\n",
      "[0, 11, 14, 18, 21, 23, 27, 29, 31, 34, 40, 42, 55, 57, 65, 67, 68, 71, 72, 75, 77, 80]\n",
      "68\n",
      "22\n",
      "1\n"
     ]
    },
    {
     "data": {
      "image/png": "[encoded data removed]",
      "text/plain": [
       "<Figure size 640x480 with 1 Axes>"
      ]
     },
     "metadata": {},
     "output_type": "display_data"
    }
   ],
   "source": [
    "index = 3\n",
    "print(np.size(training_indices[0]))\n",
    "training_real_ys = classification[training_indices]\n",
    "plt.hist(training_real_ys, bins = [0,1,2,3,4,5,6])\n",
    "plt.show()\n",
    "organised_training_groups = groups[training_indices]\n",
    "organised_testing_groups = groups[test_indices]\n",
    "training_groups = []\n",
    "testing_groups = []\n",
    "for i in range(0, 90):\n",
    "    print(f\"{i}: {np.sum(organised_training_groups == i)}, {np.sum(organised_testing_groups == i)}\")\n",
    "    # print(np.sum(organised_training_groups == i))\n",
    "    if np.sum(organised_training_groups == i) == 0:\n",
    "        testing_groups.append(i)\n",
    "    else:\n",
    "        training_groups.append(i)\n",
    "print(training_groups)\n",
    "print(testing_groups)\n",
    "print(len(training_groups))\n",
    "print(len(testing_groups))\n",
    "print(np.size(test_indices[0]))\n",
    "testing_real_ys = classification[test_indices]\n",
    "plt.hist(testing_real_ys, bins = [0,1,2,3,4,5,6])\n",
    "plt.show()\n",
    "\n"
   ]
  }
 ],
 "metadata": {
  "kernelspec": {
   "display_name": "ml_env",
   "language": "python",
   "name": "python3"
  },
  "language_info": {
   "codemirror_mode": {
    "name": "ipython",
    "version": 3
   },
   "file_extension": ".py",
   "mimetype": "text/x-python",
   "name": "python",
   "nbconvert_exporter": "python",
   "pygments_lexer": "ipython3",
   "version": "3.11.11"
  }
 },
 "nbformat": 4,
 "nbformat_minor": 2
}
