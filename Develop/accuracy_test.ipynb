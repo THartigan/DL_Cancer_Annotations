{
 "cells": [
  {
   "cell_type": "code",
   "execution_count": null,
   "metadata": {},
   "outputs": [
    {
     "name": "stdout",
     "output_type": "stream",
     "text": [
      "[[0 1 0 0]\n",
      " [1 1 0 0]\n",
      " [0 0 0 2]\n",
      " [0 0 0 1]]\n",
      "0.3333333333333333\n",
      "0.3333333333333333\n",
      "[1 2 2 1]\n",
      "[1.5  0.75 0.75 1.5 ]\n",
      "0.375\n"
     ]
    }
   ],
   "source": [
    "import sys\n",
    "import os\n",
    "script_path = os.getcwd()\n",
    "crime_dir = os.path.abspath(os.path.join(script_path, \"..\"))\n",
    "sys.path.insert(0, crime_dir)\n",
    "from sklearn.metrics import accuracy_score\n",
    "from Processing.misc import calculate_performance_stats_by_class\n",
    "from sklearn.metrics import confusion_matrix\n",
    "import numpy as np\n",
    "\n",
    "generated_data = [1,1,0,3,3,3]\n",
    "correct_data = [0,1,1,2,2,3]\n",
    "\n",
    "confusion = confusion_matrix(correct_data, generated_data)\n",
    "print(confusion)\n",
    "overall_accuracy = np.diag(confusion).sum() / confusion.sum()\n",
    "print(overall_accuracy)\n",
    "sk_accuracy = accuracy_score(correct_data, generated_data)\n",
    "print(sk_accuracy)\n",
    "accuracy_weights = np.array([1, 1, 0, 1])\n",
    "total_dataset_count = np.sum(confusion, axis=1)\n",
    "overall_accuracy = np.diag(confusion*np.diag(accuracy_weights)).sum() / np.sum(total_dataset_count*accuracy_weights)\n",
    "print(total_dataset_count)\n",
    "mean_dataset_count = np.mean(total_dataset_count)\n",
    "prop_by_class = mean_dataset_count/ total_dataset_count\n",
    "accuracy_weights = prop_by_class\n",
    "print(accuracy_weights)\n",
    "overall_accuracy = np.diag(confusion*np.diag(accuracy_weights)).sum() / np.sum(total_dataset_count*accuracy_weights)\n",
    "print(overall_accuracy)"
   ]
  }
 ],
 "metadata": {
  "kernelspec": {
   "display_name": "ml_env",
   "language": "python",
   "name": "python3"
  },
  "language_info": {
   "codemirror_mode": {
    "name": "ipython",
    "version": 3
   },
   "file_extension": ".py",
   "mimetype": "text/x-python",
   "name": "python",
   "nbconvert_exporter": "python",
   "pygments_lexer": "ipython3",
   "version": "3.11.11"
  }
 },
 "nbformat": 4,
 "nbformat_minor": 2
}
